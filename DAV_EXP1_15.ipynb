{
  "nbformat": 4,
  "nbformat_minor": 0,
  "metadata": {
    "colab": {
      "provenance": [],
      "authorship_tag": "ABX9TyPhwL0LgaScny1fwgI0ug3m",
      "include_colab_link": true
    },
    "kernelspec": {
      "name": "python3",
      "display_name": "Python 3"
    },
    "language_info": {
      "name": "python"
    }
  },
  "cells": [
    {
      "cell_type": "markdown",
      "metadata": {
        "id": "view-in-github",
        "colab_type": "text"
      },
      "source": [
        "<a href=\"https://colab.research.google.com/github/SanD172/DAV-LAB/blob/main/DAV_EXP1_15.ipynb\" target=\"_parent\"><img src=\"https://colab.research.google.com/assets/colab-badge.svg\" alt=\"Open In Colab\"/></a>"
      ]
    },
    {
      "cell_type": "markdown",
      "source": [
        "# **AIM : Getting introduced to data analytics libraries in Python and R**"
      ],
      "metadata": {
        "id": "oP6fZ-P3K3KI"
      }
    },
    {
      "cell_type": "markdown",
      "source": [
        "**PYTHON**"
      ],
      "metadata": {
        "id": "uRXA_AqXLTJH"
      }
    },
    {
      "cell_type": "markdown",
      "source": [
        "**TensorFlow:**\n",
        "\n",
        "Developed by Google Brain, TensorFlow is an open-source machine learning library used for numerical computations and building deep learning models.\n",
        "It provides a comprehensive set of tools for building and deploying machine learning models, particularly neural networks.\n",
        "\n",
        "**NumPy:**\n",
        "\n",
        "NumPy is a fundamental package for scientific computing in Python.\n",
        "It provides support for large, multi-dimensional arrays and matrices, along with mathematical functions to operate on these arrays.\n",
        "\n",
        "**SciPy:**\n",
        "\n",
        "Built on top of NumPy, SciPy is used for scientific and technical computing.\n",
        "It includes modules for optimization, integration, interpolation, eigenvalue problems, signal and image processing, and more.\n",
        "\n",
        "**Pandas:**\n",
        "\n",
        "Pandas is a powerful library for data manipulation and analysis.\n",
        "It introduces data structures like DataFrame and Series, making it easy to handle and analyze structured data.\n",
        "Keras:\n",
        "\n",
        "Keras is an open-source high-level neural networks API written in Python.\n",
        "It is designed to be user-friendly, modular, and extensible, allowing for fast experimentation with deep neural networks.\n",
        "\n",
        "**scikit-learn:**\n",
        "\n",
        "Scikit-learn is a machine learning library that provides simple and efficient tools for data mining and data analysis.\n",
        "It includes a wide range of machine learning algorithms for classification, regression, clustering, and more.\n",
        "\n",
        "**PyTorch:**\n",
        "\n",
        "PyTorch is an open-source deep learning framework developed by Facebook.\n",
        "It is known for its dynamic computational graph, making it easier to work with dynamic data and more intuitive for debugging.\n",
        "\n",
        "**Scrapy:**\n",
        "\n",
        "Scrapy is an open-source web crawling framework for Python.\n",
        "It is used to extract data from websites and can be employed for various applications like data mining, information processing, and historical archival.\n",
        "\n",
        "**BeautifulSoup:**\n",
        "\n",
        "BeautifulSoup is a library for pulling data out of HTML and XML files.\n",
        "It provides Pythonic idioms for iterating, searching, and modifying the parse tree, making it easy to extract information from web pages.\n",
        "\n",
        "**PyBrain:**\n",
        "\n",
        "PyBrain is a modular Machine Learning Library for Python.\n",
        "It provides algorithms for neural networks, reinforcement learning, unsupervised learning, and more."
      ],
      "metadata": {
        "id": "3R8Hti7hLWcL"
      }
    },
    {
      "cell_type": "code",
      "source": [],
      "metadata": {
        "id": "y2BYnA6kLuF4"
      },
      "execution_count": null,
      "outputs": []
    },
    {
      "cell_type": "markdown",
      "source": [
        "# **R**"
      ],
      "metadata": {
        "id": "MybnCzooLvqm"
      }
    },
    {
      "cell_type": "markdown",
      "source": [
        "**dplyr:**\n",
        "\n",
        "dplyr is a powerful and efficient package for data manipulation in R.\n",
        "It provides a set of functions that make it easy to filter, arrange, group, and summarize data.\n",
        "\n",
        "**tidyr:**\n",
        "\n",
        "tidyr is a library for cleaning and transforming messy data.\n",
        "It provides functions to tidy data by reshaping it into a more structured form, making it easier to work with.\n",
        "\n",
        "**readr:**\n",
        "\n",
        "readr is a fast and user-friendly package for reading rectangular data (like CSV files) into R.\n",
        "It is part of the tidyverse ecosystem and focuses on providing a consistent and readable way to import data.\n",
        "\n",
        "**stringr:**\n",
        "\n",
        "stringr is a package for working with strings in R.\n",
        "It provides functions to manipulate and analyze character strings, making it easier to handle text data.\n",
        "\n",
        "**ggplot2:**\n",
        "\n",
        "ggplot2 is a popular and flexible data visualization package in R.\n",
        "It follows the grammar of graphics, allowing users to create complex and customized plots with a relatively simple syntax.\n",
        "\n",
        "**lubridate:**\n",
        "\n",
        "lubridate is a package for handling date and time data in R.\n",
        "It provides functions to parse, manipulate, and format dates and times, making it convenient for time series analysis.\n",
        "\n",
        "**jsonlite:**\n",
        "\n",
        "jsonlite is a fast JSON parser and generator for R.\n",
        "It simplifies working with JSON data, providing functions to convert between JSON and R objects.\n",
        "\n",
        "**Shiny:**\n",
        "\n",
        "Shiny is a web application framework for R.\n",
        "It allows users to create interactive web applications directly from R, making it easier to share data visualizations and analyses.\n",
        "\n",
        "**tseries:**\n",
        "\n",
        "tseries is a package for time series analysis and computational finance in R.\n",
        "It includes functions for time series analysis, such as autoregressive models, unit root tests, and more.\n",
        "\n",
        "**Prophet:**\n",
        "\n",
        "Prophet is a forecasting tool designed for time series forecasting in R.\n",
        "Developed by Facebook, it is particularly useful for forecasting data with strong seasonal patterns and multiple seasonality."
      ],
      "metadata": {
        "id": "0muPOJVwL_Xd"
      }
    },
    {
      "cell_type": "code",
      "source": [],
      "metadata": {
        "id": "_gse9ZHDMd41"
      },
      "execution_count": null,
      "outputs": []
    },
    {
      "cell_type": "markdown",
      "source": [
        "**Conclusion :** Thus we have explored 5 libraries and performed operation using 2 of the libraries in Python and R\n"
      ],
      "metadata": {
        "id": "-MDH4v2dMTyv"
      }
    }
  ]
}