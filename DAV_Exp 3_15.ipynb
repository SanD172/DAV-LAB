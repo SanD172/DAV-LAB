{
  "cells": [
    {
      "cell_type": "markdown",
      "metadata": {
        "id": "view-in-github",
        "colab_type": "text"
      },
      "source": [
        "<a href=\"https://colab.research.google.com/github/SanD172/DAV-LAB/blob/main/DAV_Exp3ipynb.ipynb\" target=\"_parent\"><img src=\"https://colab.research.google.com/assets/colab-badge.svg\" alt=\"Open In Colab\"/></a>"
      ]
    },
    {
      "cell_type": "markdown",
      "metadata": {
        "id": "4Xmb1zXzU0qq"
      },
      "source": [
        "**Aim :** To study and implement Multiple Linear Regression\n",
        "\n",
        "**Lab Outcomes (LO) :**Implement various Regression techniques for prediction. (LO2)\n",
        "\n",
        "**Task to be performed :**\n",
        "\n",
        "List the packages to be used for Multiple Linear Regression in Python.\n",
        "\n",
        "Download the dataset from UCI Repository / Kaggle\n",
        "\n",
        "Load data into Google Colab\n",
        "\n",
        "Display the summary of the dataset\n",
        "\n",
        "Create a model and fit it\n",
        "\n",
        "Get the values : Coefficient of Determination, Intercept and Coefficients\n",
        "\n",
        "Predict the response\n",
        "\n",
        "Visualize the results with a graph\n",
        "\n",
        "Repeat the steps 2 to 6 using R libraries"
      ]
    },
    {
      "cell_type": "code",
      "execution_count": 2,
      "metadata": {
        "id": "z2ph9T45U_Z3"
      },
      "outputs": [],
      "source": [
        "#Importing the libraries\n",
        "import pandas as pd\n",
        "import numpy as np\n",
        "import matplotlib.pyplot as plt\n",
        "import seaborn as sns\n",
        "\n",
        "# import warnings\n",
        "import warnings\n",
        "warnings.filterwarnings(\"ignore\")\n",
        "\n",
        "from sklearn import linear_model\n",
        "from sklearn.linear_model import LinearRegression\n",
        "from sklearn import metrics\n",
        "from sklearn.metrics import mean_squared_error, mean_absolute_error\n",
        "from sklearn.model_selection import train_test_split, cross_val_score"
      ]
    },
    {
      "cell_type": "code",
      "execution_count": 3,
      "metadata": {
        "id": "gttazu2zWe_8"
      },
      "outputs": [],
      "source": [
        "df = pd.read_csv(\"data.csv\")\n"
      ]
    },
    {
      "cell_type": "code",
      "execution_count": 4,
      "metadata": {
        "colab": {
          "base_uri": "https://localhost:8080/",
          "height": 206
        },
        "id": "rXgWisFHW5Fh",
        "outputId": "630c5ed1-b2a4-4b01-d2ca-bb3e3e8a7c56"
      },
      "outputs": [
        {
          "output_type": "execute_result",
          "data": {
            "text/plain": [
              "          Car       Model  Volume  Weight  CO2\n",
              "0      Toyoty        Aygo    1000     790   99\n",
              "1  Mitsubishi  Space Star    1200    1160   95\n",
              "2       Skoda      Citigo    1000     929   95\n",
              "3        Fiat         500     900     865   90\n",
              "4        Mini      Cooper    1500    1140  105"
            ],
            "text/html": [
              "\n",
              "  <div id=\"df-787c1fa4-e422-4e1a-84a1-7e329d27f0ca\" class=\"colab-df-container\">\n",
              "    <div>\n",
              "<style scoped>\n",
              "    .dataframe tbody tr th:only-of-type {\n",
              "        vertical-align: middle;\n",
              "    }\n",
              "\n",
              "    .dataframe tbody tr th {\n",
              "        vertical-align: top;\n",
              "    }\n",
              "\n",
              "    .dataframe thead th {\n",
              "        text-align: right;\n",
              "    }\n",
              "</style>\n",
              "<table border=\"1\" class=\"dataframe\">\n",
              "  <thead>\n",
              "    <tr style=\"text-align: right;\">\n",
              "      <th></th>\n",
              "      <th>Car</th>\n",
              "      <th>Model</th>\n",
              "      <th>Volume</th>\n",
              "      <th>Weight</th>\n",
              "      <th>CO2</th>\n",
              "    </tr>\n",
              "  </thead>\n",
              "  <tbody>\n",
              "    <tr>\n",
              "      <th>0</th>\n",
              "      <td>Toyoty</td>\n",
              "      <td>Aygo</td>\n",
              "      <td>1000</td>\n",
              "      <td>790</td>\n",
              "      <td>99</td>\n",
              "    </tr>\n",
              "    <tr>\n",
              "      <th>1</th>\n",
              "      <td>Mitsubishi</td>\n",
              "      <td>Space Star</td>\n",
              "      <td>1200</td>\n",
              "      <td>1160</td>\n",
              "      <td>95</td>\n",
              "    </tr>\n",
              "    <tr>\n",
              "      <th>2</th>\n",
              "      <td>Skoda</td>\n",
              "      <td>Citigo</td>\n",
              "      <td>1000</td>\n",
              "      <td>929</td>\n",
              "      <td>95</td>\n",
              "    </tr>\n",
              "    <tr>\n",
              "      <th>3</th>\n",
              "      <td>Fiat</td>\n",
              "      <td>500</td>\n",
              "      <td>900</td>\n",
              "      <td>865</td>\n",
              "      <td>90</td>\n",
              "    </tr>\n",
              "    <tr>\n",
              "      <th>4</th>\n",
              "      <td>Mini</td>\n",
              "      <td>Cooper</td>\n",
              "      <td>1500</td>\n",
              "      <td>1140</td>\n",
              "      <td>105</td>\n",
              "    </tr>\n",
              "  </tbody>\n",
              "</table>\n",
              "</div>\n",
              "    <div class=\"colab-df-buttons\">\n",
              "\n",
              "  <div class=\"colab-df-container\">\n",
              "    <button class=\"colab-df-convert\" onclick=\"convertToInteractive('df-787c1fa4-e422-4e1a-84a1-7e329d27f0ca')\"\n",
              "            title=\"Convert this dataframe to an interactive table.\"\n",
              "            style=\"display:none;\">\n",
              "\n",
              "  <svg xmlns=\"http://www.w3.org/2000/svg\" height=\"24px\" viewBox=\"0 -960 960 960\">\n",
              "    <path d=\"M120-120v-720h720v720H120Zm60-500h600v-160H180v160Zm220 220h160v-160H400v160Zm0 220h160v-160H400v160ZM180-400h160v-160H180v160Zm440 0h160v-160H620v160ZM180-180h160v-160H180v160Zm440 0h160v-160H620v160Z\"/>\n",
              "  </svg>\n",
              "    </button>\n",
              "\n",
              "  <style>\n",
              "    .colab-df-container {\n",
              "      display:flex;\n",
              "      gap: 12px;\n",
              "    }\n",
              "\n",
              "    .colab-df-convert {\n",
              "      background-color: #E8F0FE;\n",
              "      border: none;\n",
              "      border-radius: 50%;\n",
              "      cursor: pointer;\n",
              "      display: none;\n",
              "      fill: #1967D2;\n",
              "      height: 32px;\n",
              "      padding: 0 0 0 0;\n",
              "      width: 32px;\n",
              "    }\n",
              "\n",
              "    .colab-df-convert:hover {\n",
              "      background-color: #E2EBFA;\n",
              "      box-shadow: 0px 1px 2px rgba(60, 64, 67, 0.3), 0px 1px 3px 1px rgba(60, 64, 67, 0.15);\n",
              "      fill: #174EA6;\n",
              "    }\n",
              "\n",
              "    .colab-df-buttons div {\n",
              "      margin-bottom: 4px;\n",
              "    }\n",
              "\n",
              "    [theme=dark] .colab-df-convert {\n",
              "      background-color: #3B4455;\n",
              "      fill: #D2E3FC;\n",
              "    }\n",
              "\n",
              "    [theme=dark] .colab-df-convert:hover {\n",
              "      background-color: #434B5C;\n",
              "      box-shadow: 0px 1px 3px 1px rgba(0, 0, 0, 0.15);\n",
              "      filter: drop-shadow(0px 1px 2px rgba(0, 0, 0, 0.3));\n",
              "      fill: #FFFFFF;\n",
              "    }\n",
              "  </style>\n",
              "\n",
              "    <script>\n",
              "      const buttonEl =\n",
              "        document.querySelector('#df-787c1fa4-e422-4e1a-84a1-7e329d27f0ca button.colab-df-convert');\n",
              "      buttonEl.style.display =\n",
              "        google.colab.kernel.accessAllowed ? 'block' : 'none';\n",
              "\n",
              "      async function convertToInteractive(key) {\n",
              "        const element = document.querySelector('#df-787c1fa4-e422-4e1a-84a1-7e329d27f0ca');\n",
              "        const dataTable =\n",
              "          await google.colab.kernel.invokeFunction('convertToInteractive',\n",
              "                                                    [key], {});\n",
              "        if (!dataTable) return;\n",
              "\n",
              "        const docLinkHtml = 'Like what you see? Visit the ' +\n",
              "          '<a target=\"_blank\" href=https://colab.research.google.com/notebooks/data_table.ipynb>data table notebook</a>'\n",
              "          + ' to learn more about interactive tables.';\n",
              "        element.innerHTML = '';\n",
              "        dataTable['output_type'] = 'display_data';\n",
              "        await google.colab.output.renderOutput(dataTable, element);\n",
              "        const docLink = document.createElement('div');\n",
              "        docLink.innerHTML = docLinkHtml;\n",
              "        element.appendChild(docLink);\n",
              "      }\n",
              "    </script>\n",
              "  </div>\n",
              "\n",
              "\n",
              "<div id=\"df-502fd1c4-ec23-4b99-9eeb-0a018baa111b\">\n",
              "  <button class=\"colab-df-quickchart\" onclick=\"quickchart('df-502fd1c4-ec23-4b99-9eeb-0a018baa111b')\"\n",
              "            title=\"Suggest charts\"\n",
              "            style=\"display:none;\">\n",
              "\n",
              "<svg xmlns=\"http://www.w3.org/2000/svg\" height=\"24px\"viewBox=\"0 0 24 24\"\n",
              "     width=\"24px\">\n",
              "    <g>\n",
              "        <path d=\"M19 3H5c-1.1 0-2 .9-2 2v14c0 1.1.9 2 2 2h14c1.1 0 2-.9 2-2V5c0-1.1-.9-2-2-2zM9 17H7v-7h2v7zm4 0h-2V7h2v10zm4 0h-2v-4h2v4z\"/>\n",
              "    </g>\n",
              "</svg>\n",
              "  </button>\n",
              "\n",
              "<style>\n",
              "  .colab-df-quickchart {\n",
              "      --bg-color: #E8F0FE;\n",
              "      --fill-color: #1967D2;\n",
              "      --hover-bg-color: #E2EBFA;\n",
              "      --hover-fill-color: #174EA6;\n",
              "      --disabled-fill-color: #AAA;\n",
              "      --disabled-bg-color: #DDD;\n",
              "  }\n",
              "\n",
              "  [theme=dark] .colab-df-quickchart {\n",
              "      --bg-color: #3B4455;\n",
              "      --fill-color: #D2E3FC;\n",
              "      --hover-bg-color: #434B5C;\n",
              "      --hover-fill-color: #FFFFFF;\n",
              "      --disabled-bg-color: #3B4455;\n",
              "      --disabled-fill-color: #666;\n",
              "  }\n",
              "\n",
              "  .colab-df-quickchart {\n",
              "    background-color: var(--bg-color);\n",
              "    border: none;\n",
              "    border-radius: 50%;\n",
              "    cursor: pointer;\n",
              "    display: none;\n",
              "    fill: var(--fill-color);\n",
              "    height: 32px;\n",
              "    padding: 0;\n",
              "    width: 32px;\n",
              "  }\n",
              "\n",
              "  .colab-df-quickchart:hover {\n",
              "    background-color: var(--hover-bg-color);\n",
              "    box-shadow: 0 1px 2px rgba(60, 64, 67, 0.3), 0 1px 3px 1px rgba(60, 64, 67, 0.15);\n",
              "    fill: var(--button-hover-fill-color);\n",
              "  }\n",
              "\n",
              "  .colab-df-quickchart-complete:disabled,\n",
              "  .colab-df-quickchart-complete:disabled:hover {\n",
              "    background-color: var(--disabled-bg-color);\n",
              "    fill: var(--disabled-fill-color);\n",
              "    box-shadow: none;\n",
              "  }\n",
              "\n",
              "  .colab-df-spinner {\n",
              "    border: 2px solid var(--fill-color);\n",
              "    border-color: transparent;\n",
              "    border-bottom-color: var(--fill-color);\n",
              "    animation:\n",
              "      spin 1s steps(1) infinite;\n",
              "  }\n",
              "\n",
              "  @keyframes spin {\n",
              "    0% {\n",
              "      border-color: transparent;\n",
              "      border-bottom-color: var(--fill-color);\n",
              "      border-left-color: var(--fill-color);\n",
              "    }\n",
              "    20% {\n",
              "      border-color: transparent;\n",
              "      border-left-color: var(--fill-color);\n",
              "      border-top-color: var(--fill-color);\n",
              "    }\n",
              "    30% {\n",
              "      border-color: transparent;\n",
              "      border-left-color: var(--fill-color);\n",
              "      border-top-color: var(--fill-color);\n",
              "      border-right-color: var(--fill-color);\n",
              "    }\n",
              "    40% {\n",
              "      border-color: transparent;\n",
              "      border-right-color: var(--fill-color);\n",
              "      border-top-color: var(--fill-color);\n",
              "    }\n",
              "    60% {\n",
              "      border-color: transparent;\n",
              "      border-right-color: var(--fill-color);\n",
              "    }\n",
              "    80% {\n",
              "      border-color: transparent;\n",
              "      border-right-color: var(--fill-color);\n",
              "      border-bottom-color: var(--fill-color);\n",
              "    }\n",
              "    90% {\n",
              "      border-color: transparent;\n",
              "      border-bottom-color: var(--fill-color);\n",
              "    }\n",
              "  }\n",
              "</style>\n",
              "\n",
              "  <script>\n",
              "    async function quickchart(key) {\n",
              "      const quickchartButtonEl =\n",
              "        document.querySelector('#' + key + ' button');\n",
              "      quickchartButtonEl.disabled = true;  // To prevent multiple clicks.\n",
              "      quickchartButtonEl.classList.add('colab-df-spinner');\n",
              "      try {\n",
              "        const charts = await google.colab.kernel.invokeFunction(\n",
              "            'suggestCharts', [key], {});\n",
              "      } catch (error) {\n",
              "        console.error('Error during call to suggestCharts:', error);\n",
              "      }\n",
              "      quickchartButtonEl.classList.remove('colab-df-spinner');\n",
              "      quickchartButtonEl.classList.add('colab-df-quickchart-complete');\n",
              "    }\n",
              "    (() => {\n",
              "      let quickchartButtonEl =\n",
              "        document.querySelector('#df-502fd1c4-ec23-4b99-9eeb-0a018baa111b button');\n",
              "      quickchartButtonEl.style.display =\n",
              "        google.colab.kernel.accessAllowed ? 'block' : 'none';\n",
              "    })();\n",
              "  </script>\n",
              "</div>\n",
              "    </div>\n",
              "  </div>\n"
            ]
          },
          "metadata": {},
          "execution_count": 4
        }
      ],
      "source": [
        "df.head()\n"
      ]
    },
    {
      "cell_type": "code",
      "execution_count": null,
      "metadata": {
        "colab": {
          "base_uri": "https://localhost:8080/"
        },
        "id": "e6SJwBDUXbC6",
        "outputId": "4387e193-7119-4fb1-e288-59c5e76c111a"
      },
      "outputs": [
        {
          "data": {
            "text/plain": [
              "(36, 5)"
            ]
          },
          "execution_count": 23,
          "metadata": {},
          "output_type": "execute_result"
        }
      ],
      "source": [
        "df.shape"
      ]
    },
    {
      "cell_type": "code",
      "execution_count": null,
      "metadata": {
        "colab": {
          "base_uri": "https://localhost:8080/"
        },
        "id": "3XVmETiWW5Qq",
        "outputId": "01df8e89-e7ef-4e94-b97c-e5da4d8e75d6"
      },
      "outputs": [
        {
          "name": "stdout",
          "output_type": "stream",
          "text": [
            "            Volume       Weight         CO2\n",
            "count    36.000000    36.000000   36.000000\n",
            "mean   1611.111111  1292.277778  102.027778\n",
            "std     388.975047   242.123889    7.454571\n",
            "min     900.000000   790.000000   90.000000\n",
            "25%    1475.000000  1117.250000   97.750000\n",
            "50%    1600.000000  1329.000000   99.000000\n",
            "75%    2000.000000  1418.250000  105.000000\n",
            "max    2500.000000  1746.000000  120.000000\n"
          ]
        }
      ],
      "source": [
        "print(df.describe())"
      ]
    },
    {
      "cell_type": "code",
      "execution_count": null,
      "metadata": {
        "id": "btnLbvW9ieZc"
      },
      "outputs": [],
      "source": [
        "#independent values and call this variable X. Put the dependent values in a variable called y.\n",
        "X = df[['Weight', 'Volume']]\n",
        "y = df['CO2'"
      ]
    },
    {
      "cell_type": "code",
      "execution_count": null,
      "metadata": {
        "id": "yVYB_py2XOmW"
      },
      "outputs": [],
      "source": [
        "#Model Building\n",
        "X_train,X_test, y_train, y_test = train_test_split(X, y, test_size = 0.3, random_state = 100)"
      ]
    },
    {
      "cell_type": "code",
      "execution_count": null,
      "metadata": {
        "colab": {
          "base_uri": "https://localhost:8080/"
        },
        "id": "DJBXl-0LcQ-H",
        "outputId": "ed00a746-d0b8-4146-ffd8-7ec9285f65a0"
      },
      "outputs": [
        {
          "data": {
            "text/plain": [
              "(25,)"
            ]
          },
          "execution_count": 27,
          "metadata": {},
          "output_type": "execute_result"
        }
      ],
      "source": [
        "y_train.shape"
      ]
    },
    {
      "cell_type": "code",
      "execution_count": null,
      "metadata": {
        "colab": {
          "base_uri": "https://localhost:8080/"
        },
        "id": "a83TDxaTcRBU",
        "outputId": "6d21463c-0e5c-48c5-bedb-266e32dfc03a"
      },
      "outputs": [
        {
          "data": {
            "text/plain": [
              "(11,)"
            ]
          },
          "execution_count": 28,
          "metadata": {},
          "output_type": "execute_result"
        }
      ],
      "source": [
        "y_test.shape"
      ]
    },
    {
      "cell_type": "code",
      "execution_count": null,
      "metadata": {
        "id": "eRyejn7acTH0"
      },
      "outputs": [],
      "source": [
        "reg_model = linear_model.LinearRegression()"
      ]
    },
    {
      "cell_type": "code",
      "execution_count": null,
      "metadata": {
        "id": "jCPzcvrlcUvz"
      },
      "outputs": [],
      "source": [
        "#Fitting the Multiple Linear Regression model\n",
        "reg_model = LinearRegression().fit(X_train, y_train)"
      ]
    },
    {
      "cell_type": "code",
      "execution_count": null,
      "metadata": {
        "id": "81XsbNXScYqq"
      },
      "outputs": [],
      "source": [
        "#Predicting the Test and Train set result\n",
        "y_pred= reg_model.predict(X_test)\n",
        "x_pred= reg_model.predict(X_train)"
      ]
    },
    {
      "cell_type": "code",
      "execution_count": null,
      "metadata": {
        "colab": {
          "base_uri": "https://localhost:8080/"
        },
        "id": "SnG2bMMQcdjD",
        "outputId": "3c91ee16-5bb0-4459-81ee-722717d4c0d4"
      },
      "outputs": [
        {
          "name": "stdout",
          "output_type": "stream",
          "text": [
            "Prediction for test set: [ 90.41571939 102.16323413  99.56363213 104.56661845 101.54657652\n",
            "  95.94770019 108.64011848 102.22654214  92.80374837  97.27327129\n",
            "  97.57074463]\n"
          ]
        }
      ],
      "source": [
        "print(\"Prediction for test set: {}\".format(y_pred))"
      ]
    },
    {
      "cell_type": "code",
      "execution_count": null,
      "metadata": {
        "colab": {
          "base_uri": "https://localhost:8080/",
          "height": 394
        },
        "id": "valzIkh9ceXm",
        "outputId": "ef97144a-3f0e-45f6-f66f-537ea2cd3e83"
      },
      "outputs": [
        {
          "data": {
            "text/html": [
              "\n",
              "  <div id=\"df-4706e3fb-0298-4a8d-8567-a6b1cc9b3fe7\" class=\"colab-df-container\">\n",
              "    <div>\n",
              "<style scoped>\n",
              "    .dataframe tbody tr th:only-of-type {\n",
              "        vertical-align: middle;\n",
              "    }\n",
              "\n",
              "    .dataframe tbody tr th {\n",
              "        vertical-align: top;\n",
              "    }\n",
              "\n",
              "    .dataframe thead th {\n",
              "        text-align: right;\n",
              "    }\n",
              "</style>\n",
              "<table border=\"1\" class=\"dataframe\">\n",
              "  <thead>\n",
              "    <tr style=\"text-align: right;\">\n",
              "      <th></th>\n",
              "      <th>Actual value</th>\n",
              "      <th>Predicted value</th>\n",
              "    </tr>\n",
              "  </thead>\n",
              "  <tbody>\n",
              "    <tr>\n",
              "      <th>0</th>\n",
              "      <td>99</td>\n",
              "      <td>90.415719</td>\n",
              "    </tr>\n",
              "    <tr>\n",
              "      <th>19</th>\n",
              "      <td>105</td>\n",
              "      <td>102.163234</td>\n",
              "    </tr>\n",
              "    <tr>\n",
              "      <th>32</th>\n",
              "      <td>104</td>\n",
              "      <td>99.563632</td>\n",
              "    </tr>\n",
              "    <tr>\n",
              "      <th>35</th>\n",
              "      <td>120</td>\n",
              "      <td>104.566618</td>\n",
              "    </tr>\n",
              "    <tr>\n",
              "      <th>7</th>\n",
              "      <td>92</td>\n",
              "      <td>101.546577</td>\n",
              "    </tr>\n",
              "    <tr>\n",
              "      <th>12</th>\n",
              "      <td>99</td>\n",
              "      <td>95.947700</td>\n",
              "    </tr>\n",
              "    <tr>\n",
              "      <th>29</th>\n",
              "      <td>114</td>\n",
              "      <td>108.640118</td>\n",
              "    </tr>\n",
              "    <tr>\n",
              "      <th>33</th>\n",
              "      <td>108</td>\n",
              "      <td>102.226542</td>\n",
              "    </tr>\n",
              "    <tr>\n",
              "      <th>5</th>\n",
              "      <td>105</td>\n",
              "      <td>92.803748</td>\n",
              "    </tr>\n",
              "    <tr>\n",
              "      <th>1</th>\n",
              "      <td>95</td>\n",
              "      <td>97.273271</td>\n",
              "    </tr>\n",
              "    <tr>\n",
              "      <th>18</th>\n",
              "      <td>104</td>\n",
              "      <td>97.570745</td>\n",
              "    </tr>\n",
              "  </tbody>\n",
              "</table>\n",
              "</div>\n",
              "    <div class=\"colab-df-buttons\">\n",
              "\n",
              "  <div class=\"colab-df-container\">\n",
              "    <button class=\"colab-df-convert\" onclick=\"convertToInteractive('df-4706e3fb-0298-4a8d-8567-a6b1cc9b3fe7')\"\n",
              "            title=\"Convert this dataframe to an interactive table.\"\n",
              "            style=\"display:none;\">\n",
              "\n",
              "  <svg xmlns=\"http://www.w3.org/2000/svg\" height=\"24px\" viewBox=\"0 -960 960 960\">\n",
              "    <path d=\"M120-120v-720h720v720H120Zm60-500h600v-160H180v160Zm220 220h160v-160H400v160Zm0 220h160v-160H400v160ZM180-400h160v-160H180v160Zm440 0h160v-160H620v160ZM180-180h160v-160H180v160Zm440 0h160v-160H620v160Z\"/>\n",
              "  </svg>\n",
              "    </button>\n",
              "\n",
              "  <style>\n",
              "    .colab-df-container {\n",
              "      display:flex;\n",
              "      gap: 12px;\n",
              "    }\n",
              "\n",
              "    .colab-df-convert {\n",
              "      background-color: #E8F0FE;\n",
              "      border: none;\n",
              "      border-radius: 50%;\n",
              "      cursor: pointer;\n",
              "      display: none;\n",
              "      fill: #1967D2;\n",
              "      height: 32px;\n",
              "      padding: 0 0 0 0;\n",
              "      width: 32px;\n",
              "    }\n",
              "\n",
              "    .colab-df-convert:hover {\n",
              "      background-color: #E2EBFA;\n",
              "      box-shadow: 0px 1px 2px rgba(60, 64, 67, 0.3), 0px 1px 3px 1px rgba(60, 64, 67, 0.15);\n",
              "      fill: #174EA6;\n",
              "    }\n",
              "\n",
              "    .colab-df-buttons div {\n",
              "      margin-bottom: 4px;\n",
              "    }\n",
              "\n",
              "    [theme=dark] .colab-df-convert {\n",
              "      background-color: #3B4455;\n",
              "      fill: #D2E3FC;\n",
              "    }\n",
              "\n",
              "    [theme=dark] .colab-df-convert:hover {\n",
              "      background-color: #434B5C;\n",
              "      box-shadow: 0px 1px 3px 1px rgba(0, 0, 0, 0.15);\n",
              "      filter: drop-shadow(0px 1px 2px rgba(0, 0, 0, 0.3));\n",
              "      fill: #FFFFFF;\n",
              "    }\n",
              "  </style>\n",
              "\n",
              "    <script>\n",
              "      const buttonEl =\n",
              "        document.querySelector('#df-4706e3fb-0298-4a8d-8567-a6b1cc9b3fe7 button.colab-df-convert');\n",
              "      buttonEl.style.display =\n",
              "        google.colab.kernel.accessAllowed ? 'block' : 'none';\n",
              "\n",
              "      async function convertToInteractive(key) {\n",
              "        const element = document.querySelector('#df-4706e3fb-0298-4a8d-8567-a6b1cc9b3fe7');\n",
              "        const dataTable =\n",
              "          await google.colab.kernel.invokeFunction('convertToInteractive',\n",
              "                                                    [key], {});\n",
              "        if (!dataTable) return;\n",
              "\n",
              "        const docLinkHtml = 'Like what you see? Visit the ' +\n",
              "          '<a target=\"_blank\" href=https://colab.research.google.com/notebooks/data_table.ipynb>data table notebook</a>'\n",
              "          + ' to learn more about interactive tables.';\n",
              "        element.innerHTML = '';\n",
              "        dataTable['output_type'] = 'display_data';\n",
              "        await google.colab.output.renderOutput(dataTable, element);\n",
              "        const docLink = document.createElement('div');\n",
              "        docLink.innerHTML = docLinkHtml;\n",
              "        element.appendChild(docLink);\n",
              "      }\n",
              "    </script>\n",
              "  </div>\n",
              "\n",
              "\n",
              "<div id=\"df-422ffbee-92f7-431b-8627-c2eabf74e844\">\n",
              "  <button class=\"colab-df-quickchart\" onclick=\"quickchart('df-422ffbee-92f7-431b-8627-c2eabf74e844')\"\n",
              "            title=\"Suggest charts\"\n",
              "            style=\"display:none;\">\n",
              "\n",
              "<svg xmlns=\"http://www.w3.org/2000/svg\" height=\"24px\"viewBox=\"0 0 24 24\"\n",
              "     width=\"24px\">\n",
              "    <g>\n",
              "        <path d=\"M19 3H5c-1.1 0-2 .9-2 2v14c0 1.1.9 2 2 2h14c1.1 0 2-.9 2-2V5c0-1.1-.9-2-2-2zM9 17H7v-7h2v7zm4 0h-2V7h2v10zm4 0h-2v-4h2v4z\"/>\n",
              "    </g>\n",
              "</svg>\n",
              "  </button>\n",
              "\n",
              "<style>\n",
              "  .colab-df-quickchart {\n",
              "      --bg-color: #E8F0FE;\n",
              "      --fill-color: #1967D2;\n",
              "      --hover-bg-color: #E2EBFA;\n",
              "      --hover-fill-color: #174EA6;\n",
              "      --disabled-fill-color: #AAA;\n",
              "      --disabled-bg-color: #DDD;\n",
              "  }\n",
              "\n",
              "  [theme=dark] .colab-df-quickchart {\n",
              "      --bg-color: #3B4455;\n",
              "      --fill-color: #D2E3FC;\n",
              "      --hover-bg-color: #434B5C;\n",
              "      --hover-fill-color: #FFFFFF;\n",
              "      --disabled-bg-color: #3B4455;\n",
              "      --disabled-fill-color: #666;\n",
              "  }\n",
              "\n",
              "  .colab-df-quickchart {\n",
              "    background-color: var(--bg-color);\n",
              "    border: none;\n",
              "    border-radius: 50%;\n",
              "    cursor: pointer;\n",
              "    display: none;\n",
              "    fill: var(--fill-color);\n",
              "    height: 32px;\n",
              "    padding: 0;\n",
              "    width: 32px;\n",
              "  }\n",
              "\n",
              "  .colab-df-quickchart:hover {\n",
              "    background-color: var(--hover-bg-color);\n",
              "    box-shadow: 0 1px 2px rgba(60, 64, 67, 0.3), 0 1px 3px 1px rgba(60, 64, 67, 0.15);\n",
              "    fill: var(--button-hover-fill-color);\n",
              "  }\n",
              "\n",
              "  .colab-df-quickchart-complete:disabled,\n",
              "  .colab-df-quickchart-complete:disabled:hover {\n",
              "    background-color: var(--disabled-bg-color);\n",
              "    fill: var(--disabled-fill-color);\n",
              "    box-shadow: none;\n",
              "  }\n",
              "\n",
              "  .colab-df-spinner {\n",
              "    border: 2px solid var(--fill-color);\n",
              "    border-color: transparent;\n",
              "    border-bottom-color: var(--fill-color);\n",
              "    animation:\n",
              "      spin 1s steps(1) infinite;\n",
              "  }\n",
              "\n",
              "  @keyframes spin {\n",
              "    0% {\n",
              "      border-color: transparent;\n",
              "      border-bottom-color: var(--fill-color);\n",
              "      border-left-color: var(--fill-color);\n",
              "    }\n",
              "    20% {\n",
              "      border-color: transparent;\n",
              "      border-left-color: var(--fill-color);\n",
              "      border-top-color: var(--fill-color);\n",
              "    }\n",
              "    30% {\n",
              "      border-color: transparent;\n",
              "      border-left-color: var(--fill-color);\n",
              "      border-top-color: var(--fill-color);\n",
              "      border-right-color: var(--fill-color);\n",
              "    }\n",
              "    40% {\n",
              "      border-color: transparent;\n",
              "      border-right-color: var(--fill-color);\n",
              "      border-top-color: var(--fill-color);\n",
              "    }\n",
              "    60% {\n",
              "      border-color: transparent;\n",
              "      border-right-color: var(--fill-color);\n",
              "    }\n",
              "    80% {\n",
              "      border-color: transparent;\n",
              "      border-right-color: var(--fill-color);\n",
              "      border-bottom-color: var(--fill-color);\n",
              "    }\n",
              "    90% {\n",
              "      border-color: transparent;\n",
              "      border-bottom-color: var(--fill-color);\n",
              "    }\n",
              "  }\n",
              "</style>\n",
              "\n",
              "  <script>\n",
              "    async function quickchart(key) {\n",
              "      const quickchartButtonEl =\n",
              "        document.querySelector('#' + key + ' button');\n",
              "      quickchartButtonEl.disabled = true;  // To prevent multiple clicks.\n",
              "      quickchartButtonEl.classList.add('colab-df-spinner');\n",
              "      try {\n",
              "        const charts = await google.colab.kernel.invokeFunction(\n",
              "            'suggestCharts', [key], {});\n",
              "      } catch (error) {\n",
              "        console.error('Error during call to suggestCharts:', error);\n",
              "      }\n",
              "      quickchartButtonEl.classList.remove('colab-df-spinner');\n",
              "      quickchartButtonEl.classList.add('colab-df-quickchart-complete');\n",
              "    }\n",
              "    (() => {\n",
              "      let quickchartButtonEl =\n",
              "        document.querySelector('#df-422ffbee-92f7-431b-8627-c2eabf74e844 button');\n",
              "      quickchartButtonEl.style.display =\n",
              "        google.colab.kernel.accessAllowed ? 'block' : 'none';\n",
              "    })();\n",
              "  </script>\n",
              "</div>\n",
              "    </div>\n",
              "  </div>\n"
            ],
            "text/plain": [
              "    Actual value  Predicted value\n",
              "0             99        90.415719\n",
              "19           105       102.163234\n",
              "32           104        99.563632\n",
              "35           120       104.566618\n",
              "7             92       101.546577\n",
              "12            99        95.947700\n",
              "29           114       108.640118\n",
              "33           108       102.226542\n",
              "5            105        92.803748\n",
              "1             95        97.273271\n",
              "18           104        97.570745"
            ]
          },
          "execution_count": 36,
          "metadata": {},
          "output_type": "execute_result"
        }
      ],
      "source": [
        "#Actual value and the predicted value\n",
        "reg_model_diff = pd.DataFrame({'Actual value': y_test, 'Predicted value': y_pred})\n",
        "reg_model_diff\n"
      ]
    },
    {
      "cell_type": "code",
      "execution_count": null,
      "metadata": {
        "colab": {
          "base_uri": "https://localhost:8080/"
        },
        "id": "kWCfwZbxeWC7",
        "outputId": "9460637b-04da-4ea5-9850-6adf0780a1e0"
      },
      "outputs": [
        {
          "name": "stdout",
          "output_type": "stream",
          "text": [
            "Intercept: 74.33882836589245\n",
            "Coefficients: [0.01718006 0.00250464]\n"
          ]
        }
      ],
      "source": [
        "# Get the model coefficients\n",
        "print('Intercept:', reg_model.intercept_)\n",
        "print('Coefficients:', reg_model.coef_)\n"
      ]
    },
    {
      "cell_type": "code",
      "execution_count": null,
      "metadata": {
        "colab": {
          "base_uri": "https://localhost:8080/"
        },
        "id": "iqOtnnG0coi_",
        "outputId": "a729ba02-aa84-4bbb-dad0-91376e57e76a"
      },
      "outputs": [
        {
          "name": "stdout",
          "output_type": "stream",
          "text": [
            "Mean Absolute Error: 6.901980901636316\n",
            "Mean Square Error: 63.39765310998794\n",
            "Root Mean Square Error: 7.96226432053018\n"
          ]
        }
      ],
      "source": [
        "mae = metrics.mean_absolute_error(y_test, y_pred)\n",
        "mse = metrics.mean_squared_error(y_test, y_pred)\n",
        "r2 = np.sqrt(metrics.mean_squared_error(y_test, y_pred))\n",
        "\n",
        "print('Mean Absolute Error:', mae)\n",
        "print('Mean Square Error:', mse)\n",
        "print('Root Mean Square Error:', r2)"
      ]
    },
    {
      "cell_type": "code",
      "execution_count": null,
      "metadata": {
        "colab": {
          "base_uri": "https://localhost:8080/",
          "height": 927
        },
        "id": "YqubLdeccqqH",
        "outputId": "6c58f110-bbd1-43c4-aeb8-2ba11ccb990a"
      },
      "outputs": [
        {
          "data": {
            "image/png": "[encoded data removed]",
            "text/plain": [
              "<Figure size 640x480 with 1 Axes>"
            ]
          },
          "metadata": {},
          "output_type": "display_data"
        },
        {
          "data": {
            "image/png": "[encoded data removed]",
            "text/plain": [
              "<Figure size 640x480 with 1 Axes>"
            ]
          },
          "metadata": {},
          "output_type": "display_data"
        }
      ],
      "source": [
        "# Visualize the relationship between 'Weight' and 'CO2'\n",
        "plt.scatter(df['Weight'], df['CO2'])\n",
        "plt.xlabel('Weight')\n",
        "plt.ylabel('CO2')\n",
        "plt.title('CO2 Emissions vs. Vehicle Weight')\n",
        "plt.show()\n",
        "\n",
        "# Visualize the relationship between 'Volume' and 'CO2'\n",
        "plt.scatter(df['Volume'], df['CO2'])\n",
        "plt.xlabel('Volume')\n",
        "plt.ylabel('CO2')\n",
        "plt.title('CO2 Emissions vs. Engine Volume')\n",
        "plt.show()\n"
      ]
    },
    {
      "cell_type": "markdown",
      "metadata": {
        "id": "nNSOrxureZCU"
      },
      "source": [
        "## **MULTIPLE LINEAR REGRESSION IN R**\n"
      ]
    },
    {
      "cell_type": "code",
      "execution_count": 1,
      "metadata": {
        "id": "NF-mjHJkhhRI",
        "colab": {
          "base_uri": "https://localhost:8080/"
        },
        "outputId": "90a27394-0d61-491a-fe3d-6701ce8d83a9"
      },
      "outputs": [
        {
          "output_type": "stream",
          "name": "stderr",
          "text": [
            "Installing package into ‘/usr/local/lib/R/site-library’\n",
            "(as ‘lib’ is unspecified)\n",
            "\n",
            "\n",
            "Attaching package: ‘dplyr’\n",
            "\n",
            "\n",
            "The following objects are masked from ‘package:stats’:\n",
            "\n",
            "    filter, lag\n",
            "\n",
            "\n",
            "The following objects are masked from ‘package:base’:\n",
            "\n",
            "    intersect, setdiff, setequal, union\n",
            "\n",
            "\n"
          ]
        }
      ],
      "source": [
        "# Install the caret package\n",
        "install.packages(\"broom\")\n",
        "\n",
        "# Load the caret package\n",
        "library(ggplot2)\n",
        "library(dplyr)\n",
        "library(broom)\n"
      ]
    },
    {
      "cell_type": "code",
      "execution_count": 2,
      "metadata": {
        "colab": {
          "base_uri": "https://localhost:8080/",
          "height": 286
        },
        "id": "h3aNVgjWiBoJ",
        "outputId": "36914ec4-f726-4bb6-e956-2da6850d8426"
      },
      "outputs": [
        {
          "output_type": "display_data",
          "data": {
            "text/html": [
              "<table class=\"dataframe\">\n",
              "<caption>A data.frame: 6 × 5</caption>\n",
              "<thead>\n",
              "\t<tr><th></th><th scope=col>Car</th><th scope=col>Model</th><th scope=col>Volume</th><th scope=col>Weight</th><th scope=col>CO2</th></tr>\n",
              "\t<tr><th></th><th scope=col>&lt;chr&gt;</th><th scope=col>&lt;chr&gt;</th><th scope=col>&lt;int&gt;</th><th scope=col>&lt;int&gt;</th><th scope=col>&lt;int&gt;</th></tr>\n",
              "</thead>\n",
              "<tbody>\n",
              "\t<tr><th scope=row>1</th><td>Toyoty    </td><td>Aygo      </td><td>1000</td><td> 790</td><td> 99</td></tr>\n",
              "\t<tr><th scope=row>2</th><td>Mitsubishi</td><td>Space Star</td><td>1200</td><td>1160</td><td> 95</td></tr>\n",
              "\t<tr><th scope=row>3</th><td>Skoda     </td><td>Citigo    </td><td>1000</td><td> 929</td><td> 95</td></tr>\n",
              "\t<tr><th scope=row>4</th><td>Fiat      </td><td>500       </td><td> 900</td><td> 865</td><td> 90</td></tr>\n",
              "\t<tr><th scope=row>5</th><td>Mini      </td><td>Cooper    </td><td>1500</td><td>1140</td><td>105</td></tr>\n",
              "\t<tr><th scope=row>6</th><td>VW        </td><td>Up!       </td><td>1000</td><td> 929</td><td>105</td></tr>\n",
              "</tbody>\n",
              "</table>\n"
            ],
            "text/markdown": "\nA data.frame: 6 × 5\n\n| <!--/--> | Car &lt;chr&gt; | Model &lt;chr&gt; | Volume &lt;int&gt; | Weight &lt;int&gt; | CO2 &lt;int&gt; |\n|---|---|---|---|---|---|\n| 1 | Toyoty     | Aygo       | 1000 |  790 |  99 |\n| 2 | Mitsubishi | Space Star | 1200 | 1160 |  95 |\n| 3 | Skoda      | Citigo     | 1000 |  929 |  95 |\n| 4 | Fiat       | 500        |  900 |  865 |  90 |\n| 5 | Mini       | Cooper     | 1500 | 1140 | 105 |\n| 6 | VW         | Up!        | 1000 |  929 | 105 |\n\n",
            "text/latex": "A data.frame: 6 × 5\n\\begin{tabular}{r|lllll}\n  & Car & Model & Volume & Weight & CO2\\\\\n  & <chr> & <chr> & <int> & <int> & <int>\\\\\n\\hline\n\t1 & Toyoty     & Aygo       & 1000 &  790 &  99\\\\\n\t2 & Mitsubishi & Space Star & 1200 & 1160 &  95\\\\\n\t3 & Skoda      & Citigo     & 1000 &  929 &  95\\\\\n\t4 & Fiat       & 500        &  900 &  865 &  90\\\\\n\t5 & Mini       & Cooper     & 1500 & 1140 & 105\\\\\n\t6 & VW         & Up!        & 1000 &  929 & 105\\\\\n\\end{tabular}\n",
            "text/plain": [
              "  Car        Model      Volume Weight CO2\n",
              "1 Toyoty     Aygo       1000    790    99\n",
              "2 Mitsubishi Space Star 1200   1160    95\n",
              "3 Skoda      Citigo     1000    929    95\n",
              "4 Fiat       500         900    865    90\n",
              "5 Mini       Cooper     1500   1140   105\n",
              "6 VW         Up!        1000    929   105"
            ]
          },
          "metadata": {}
        }
      ],
      "source": [
        "# Suppress warnings\n",
        "options(warn=-1)\n",
        "\n",
        "# Read the dataset\n",
        "df <- read.csv(\"data.csv\", header = TRUE)\n",
        "head(df)"
      ]
    },
    {
      "cell_type": "code",
      "execution_count": 11,
      "metadata": {
        "id": "Jr6aNXU0i9EL"
      },
      "outputs": [],
      "source": [
        "# Set correct column names\n",
        "colnames(df) <- c(\"Car\", \"Model\", \"Volume\", \"Weight\", \"CO2\")"
      ]
    },
    {
      "cell_type": "code",
      "execution_count": 12,
      "metadata": {
        "id": "fR1mJx5fjBX8"
      },
      "outputs": [],
      "source": [
        "# Define independent and dependent variables\n",
        "X <- df[, c(\"Weight\", \"Volume\")]\n",
        "y <- df$CO"
      ]
    },
    {
      "cell_type": "code",
      "execution_count": 13,
      "metadata": {
        "id": "3I0t24X-jB_m"
      },
      "outputs": [],
      "source": [
        "# Split the data into training and testing sets\n",
        "set.seed(123)\n",
        "train_index <- sample(1:nrow(df), 0.7 * nrow(df))\n",
        "X_train <- X[train_index, ]\n",
        "X_test <- X[-train_index, ]\n",
        "y_train <- y[train_index]\n",
        "y_test <- y[-train_index]"
      ]
    },
    {
      "cell_type": "code",
      "source": [
        "# Create train_data with specified column names\n",
        "train_data <- data.frame(Weight = X_train$Weight, Volume = X_train$Volume, CO2 = y_train)"
      ],
      "metadata": {
        "id": "a5uQNUJHmqg9"
      },
      "execution_count": 30,
      "outputs": []
    },
    {
      "cell_type": "code",
      "source": [
        "# Fit the linear regression model\n",
        "reg_model <- lm(CO2 ~ ., data = train_data)"
      ],
      "metadata": {
        "id": "eaHrfArbnEy1"
      },
      "execution_count": 31,
      "outputs": []
    },
    {
      "cell_type": "code",
      "source": [
        "# Printing the model coefficients\n",
        "print(tidy(reg_model))"
      ],
      "metadata": {
        "colab": {
          "base_uri": "https://localhost:8080/"
        },
        "id": "8frTc2ibnI5F",
        "outputId": "c2dfd558-c6b8-4f9e-daa5-99c8f7c9460e"
      },
      "execution_count": 33,
      "outputs": [
        {
          "output_type": "stream",
          "name": "stdout",
          "text": [
            "\u001b[90m# A tibble: 3 × 5\u001b[39m\n",
            "  term        estimate std.error statistic  p.value\n",
            "  \u001b[3m\u001b[90m<chr>\u001b[39m\u001b[23m          \u001b[3m\u001b[90m<dbl>\u001b[39m\u001b[23m     \u001b[3m\u001b[90m<dbl>\u001b[39m\u001b[23m     \u001b[3m\u001b[90m<dbl>\u001b[39m\u001b[23m    \u001b[3m\u001b[90m<dbl>\u001b[39m\u001b[23m\n",
            "\u001b[90m1\u001b[39m (Intercept) 75.6       6.25        12.1  3.46\u001b[90me\u001b[39m\u001b[31m-11\u001b[39m\n",
            "\u001b[90m2\u001b[39m Weight       0.012\u001b[4m6\u001b[24m    0.007\u001b[4m4\u001b[24m\u001b[4m8\u001b[24m      1.68 1.07\u001b[90me\u001b[39m\u001b[31m- 1\u001b[39m\n",
            "\u001b[90m3\u001b[39m Volume       0.006\u001b[4m1\u001b[24m\u001b[4m1\u001b[24m   0.005\u001b[4m5\u001b[24m\u001b[4m2\u001b[24m      1.11 2.80\u001b[90me\u001b[39m\u001b[31m- 1\u001b[39m\n"
          ]
        }
      ]
    },
    {
      "cell_type": "code",
      "source": [
        "# Predicting the test set result\n",
        "y_pred <- predict(reg_model, newdata = X_test)\n",
        "y_pred\n"
      ],
      "metadata": {
        "colab": {
          "base_uri": "https://localhost:8080/",
          "height": 52
        },
        "id": "_iAGsgc9nC3b",
        "outputId": "26cee75b-a56a-4336-aa5a-3f44b1a242fd"
      },
      "execution_count": 36,
      "outputs": [
        {
          "output_type": "display_data",
          "data": {
            "text/html": [
              "<style>\n",
              ".dl-inline {width: auto; margin:0; padding: 0}\n",
              ".dl-inline>dt, .dl-inline>dd {float: none; width: auto; display: inline-block}\n",
              ".dl-inline>dt::after {content: \":\\0020\"; padding-right: .5ex}\n",
              ".dl-inline>dt:not(:first-of-type) {padding-left: .5ex}\n",
              "</style><dl class=dl-inline><dt>2</dt><dd>97.4809289044328</dd><dt>6</dt><dd>93.3552555901027</dd><dt>12</dt><dd>95.9549299667191</dd><dt>13</dt><dd>95.6556300694821</dd><dt>16</dt><dd>102.061732647963</dd><dt>17</dt><dd>102.501694980085</dd><dt>23</dt><dd>105.556499785901</dd><dt>24</dt><dd>103.130212597402</dd><dt>27</dt><dd>106.51683286803</dd><dt>35</dt><dd>103.004509073938</dd><dt>36</dt><dd>108.377454200944</dd></dl>\n"
            ],
            "text/markdown": "2\n:   97.48092890443286\n:   93.355255590102712\n:   95.954929966719113\n:   95.655630069482116\n:   102.06173264796317\n:   102.50169498008523\n:   105.55649978590124\n:   103.13021259740227\n:   106.5168328680335\n:   103.00450907393836\n:   108.377454200944\n\n",
            "text/latex": "\\begin{description*}\n\\item[2] 97.4809289044328\n\\item[6] 93.3552555901027\n\\item[12] 95.9549299667191\n\\item[13] 95.6556300694821\n\\item[16] 102.061732647963\n\\item[17] 102.501694980085\n\\item[23] 105.556499785901\n\\item[24] 103.130212597402\n\\item[27] 106.51683286803\n\\item[35] 103.004509073938\n\\item[36] 108.377454200944\n\\end{description*}\n",
            "text/plain": [
              "        2         6        12        13        16        17        23        24 \n",
              " 97.48093  93.35526  95.95493  95.65563 102.06173 102.50169 105.55650 103.13021 \n",
              "       27        35        36 \n",
              "106.51683 103.00451 108.37745 "
            ]
          },
          "metadata": {}
        }
      ]
    },
    {
      "cell_type": "code",
      "source": [
        "# Get the intercept and coefficients\n",
        "intercept <- coef(reg_model)[1]\n",
        "coefficients <- coef(reg_model)[-1]\n",
        "\n",
        "# Print the intercept and coefficients\n",
        "cat(\"Intercept:\", intercept, \"\\n\")\n",
        "cat(\"Coefficients:\", coefficients, \"\\n\")\n"
      ],
      "metadata": {
        "colab": {
          "base_uri": "https://localhost:8080/"
        },
        "id": "-EDr9DlOnqo8",
        "outputId": "19f5a150-0033-4fb1-dc04-dc6e23aa3c93"
      },
      "execution_count": 38,
      "outputs": [
        {
          "output_type": "stream",
          "name": "stdout",
          "text": [
            "Intercept: 75.56779 \n",
            "Coefficients: 0.01257035 0.00610961 \n"
          ]
        }
      ]
    },
    {
      "cell_type": "code",
      "execution_count": 35,
      "metadata": {
        "id": "8WB_HlCmjK6R",
        "colab": {
          "base_uri": "https://localhost:8080/"
        },
        "outputId": "38a070e7-ef6b-4cd0-e281-100cf82e48bb"
      },
      "outputs": [
        {
          "output_type": "stream",
          "name": "stdout",
          "text": [
            "[1] \"Mean Absolute Error: 5.62728389842059\"\n",
            "[1] \"Mean Squared Error: 41.2441730118214\"\n",
            "[1] \"Root Mean Squared Error: 6.42216264289697\"\n"
          ]
        }
      ],
      "source": [
        "# Evaluate the model\n",
        "mae <- mean(abs(y_pred - y_test))\n",
        "mse <- mean((y_pred - y_test)^2)\n",
        "rmse <- sqrt(mean((y_pred - y_test)^2))\n",
        "\n",
        "print(paste(\"Mean Absolute Error:\", mae))\n",
        "print(paste(\"Mean Squared Error:\", mse))\n",
        "print(paste(\"Root Mean Squared Error:\", rmse))\n"
      ]
    },
    {
      "cell_type": "code",
      "execution_count": 28,
      "metadata": {
        "id": "gCsKE2mijPA-",
        "colab": {
          "base_uri": "https://localhost:8080/",
          "height": 857
        },
        "outputId": "62e5ddcf-b98c-4051-f6d6-a473ac07fac7"
      },
      "outputs": [
        {
          "output_type": "display_data",
          "data": {
            "text/plain": [
              "plot without title"
            ],
            "image/png": "[encoded data removed]"
          },
          "metadata": {
            "image/png": {
              "width": 420,
              "height": 420
            }
          }
        },
        {
          "output_type": "display_data",
          "data": {
            "text/plain": [
              "plot without title"
            ],
            "image/png": "[encoded data removed]"
          },
          "metadata": {
            "image/png": {
              "width": 420,
              "height": 420
            }
          }
        }
      ],
      "source": [
        "\n",
        "# Visualize the relationship between 'Weight' and 'CO2'\n",
        "ggplot(df, aes(x = Weight, y = CO2)) +\n",
        "  geom_point() +\n",
        "  labs(x = \"Weight\", y = \"CO2\", title = \"CO2 Emissions vs. Vehicle Weight\")\n",
        "\n",
        "# Visualize the relationship between 'Volume' and 'CO2'\n",
        "ggplot(df, aes(x = Volume, y = CO2)) +\n",
        "  geom_point() +\n",
        "  labs(x = \"Volume\", y = \"CO2\", title = \"CO2 Emissions vs. Engine Volume\")\n"
      ]
    },
    {
      "cell_type": "markdown",
      "metadata": {
        "id": "KLB5K3eWgGj7"
      },
      "source": []
    },
    {
      "cell_type": "markdown",
      "metadata": {
        "id": "Tp3ezKA3fakE"
      },
      "source": [
        "# **Conclusion:**\n",
        "\n",
        "\n",
        "\n",
        "1.   Understood the concept of Multiple Linear Regression\n",
        "2.   Explored the packages in Python and R\n",
        "3.  Performed Multiple Linear Regression using the Libraries in Python and R\n",
        "\n",
        "\n",
        "\n",
        "\n",
        "\n",
        "\n",
        "\n"
      ]
    }
  ],
  "metadata": {
    "colab": {
      "provenance": [],
      "authorship_tag": "ABX9TyOkxStxCUfLOM2+HNcJP9JK",
      "include_colab_link": true
    },
    "kernelspec": {
      "display_name": "Python 3",
      "name": "python3"
    },
    "language_info": {
      "name": "python"
    }
  },
  "nbformat": 4,
  "nbformat_minor": 0
}
